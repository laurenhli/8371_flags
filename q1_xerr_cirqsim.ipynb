{
 "cells": [
  {
   "cell_type": "code",
   "execution_count": 48,
   "id": "68dd6373",
   "metadata": {},
   "outputs": [],
   "source": [
    "import cirq\n",
    "from cirq.ops import CZ, H, CNOT, CZPowGate, X, Y, Z\n",
    "import numpy as np\n",
    "from numpy.linalg import multi_dot\n",
    "import sympy\n",
    "import matplotlib.pyplot as plt"
   ]
  },
  {
   "cell_type": "code",
   "execution_count": 49,
   "id": "32f35757",
   "metadata": {},
   "outputs": [],
   "source": [
    "flag1 = cirq.NamedQubit('flag1')\n",
    "a = cirq.NamedQubit('a')\n",
    "b = cirq.NamedQubit('b')\n",
    "flag2 = cirq.NamedQubit('flag2')"
   ]
  },
  {
   "cell_type": "code",
   "execution_count": 50,
   "id": "96bd23b3",
   "metadata": {},
   "outputs": [],
   "source": [
    "#CZ and CRn gadgets with X error on input qubit 1\n",
    "\n",
    "def cz_circuit(meas=True):\n",
    "    yield X(a) #X error on input qubit 1\n",
    "    yield H(flag2)\n",
    "    yield CNOT(a, flag1), CNOT(flag2, b)\n",
    "    yield CZPowGate(exponent=1)(a,b)\n",
    "    yield CZ(a, flag2)\n",
    "    yield CNOT(a, flag1), CNOT(flag2, b)\n",
    "    yield H(flag2)\n",
    "    if meas:\n",
    "        yield cirq.measure(flag1, key='flag1'), cirq.measure(flag2, key='flag2')\n",
    "\n",
    "def rn_circuit(meas=True):\n",
    "    RnGate = CZPowGate(exponent=sympy.Symbol('n'))\n",
    "    yield X(a) #X error on input qubit 1\n",
    "    yield H(flag2)\n",
    "    yield CNOT(a, flag1), CNOT(flag2, b)\n",
    "    yield RnGate(a,b)\n",
    "    yield CZ(a, flag2)\n",
    "    yield CNOT(a, flag1), CNOT(flag2, b)\n",
    "    yield H(flag2)\n",
    "    if meas:\n",
    "        yield cirq.measure(flag1, key='flag1'), cirq.measure(flag2, key='flag2')"
   ]
  },
  {
   "cell_type": "code",
   "execution_count": 51,
   "id": "7863ed00",
   "metadata": {},
   "outputs": [],
   "source": [
    "#for counting number of flags triggered over many reps\n",
    "def count_ones(number):\n",
    "    return number.count('1')"
   ]
  },
  {
   "cell_type": "code",
   "execution_count": 52,
   "id": "6bc85295",
   "metadata": {},
   "outputs": [
    {
     "name": "stdout",
     "output_type": "stream",
     "text": [
      "              ┌──┐             ┌──┐\n",
      "a: ───────X────@─────@─────@────@─────────────\n",
      "               │     │     │    │\n",
      "b: ────────────┼X────@^n───┼────┼X────────────\n",
      "               ││          │    ││\n",
      "flag1: ────────X┼──────────┼────X┼────M───────\n",
      "                │          │     │\n",
      "flag2: ───H─────@──────────@─────@────H───M───\n",
      "              └──┘             └──┘\n"
     ]
    }
   ],
   "source": [
    "reps = 200\n",
    "\n",
    "#construct Rn circuit\n",
    "circuit = cirq.Circuit()\n",
    "circuit.append(rn_circuit())\n",
    "print(circuit)\n",
    "\n",
    "#simlate\n",
    "simulator = cirq.Simulator()\n",
    "resolvers = [cirq.ParamResolver({'n': 1/2**(y-1)}) for y in range(1,11)]\n",
    "result = simulator.run_sweep(program=circuit, params=resolvers, repetitions=reps)\n",
    "\n",
    "#clean up output\n",
    "resbits = []\n",
    "for res in result:\n",
    "    rawstr = str(res)\n",
    "    resbits.append([string[6:] for string in rawstr.split()])\n",
    "\n",
    "#flags triggered\n",
    "flag1_x = []\n",
    "flag2_x = []\n",
    "for flags in resbits:\n",
    "    flag1_x.append(count_ones(flags[0]))\n",
    "    flag2_x.append(count_ones(flags[1]))"
   ]
  },
  {
   "cell_type": "code",
   "execution_count": 53,
   "id": "5cc01382",
   "metadata": {},
   "outputs": [
    {
     "data": {
      "image/png": "[encoded data removed]",
      "text/plain": [
       "<Figure size 432x288 with 1 Axes>"
      ]
     },
     "metadata": {
      "needs_background": "light"
     },
     "output_type": "display_data"
    }
   ],
   "source": [
    "xax = np.linspace(1,10,10)\n",
    "plt.plot(xax, np.array(flag2_x)/reps, label=r'$|$+$\\rangle$ flag', color='tab:blue', lw=3)\n",
    "plt.plot(xax, np.array(flag1_x)/reps, label=r'$|$0$\\rangle$  flag', color='tab:green', lw=3)\n",
    "plt.title(r'$X$ Error on Qubit 1', fontsize=18)\n",
    "plt.xlabel(r'$n$', fontsize=16)\n",
    "plt.ylabel('Proportion Triggered', fontsize=16)\n",
    "plt.legend(fontsize=16)\n",
    "plt.xticks(fontsize=14)\n",
    "plt.yticks(fontsize=14)\n",
    "plt.show()\n",
    "#plt.savefig('x_q1.pdf')"
   ]
  },
  {
   "cell_type": "code",
   "execution_count": null,
   "id": "673c326d",
   "metadata": {},
   "outputs": [],
   "source": []
  }
 ],
 "metadata": {
  "kernelspec": {
   "display_name": "Python 3 (ipykernel)",
   "language": "python",
   "name": "python3"
  },
  "language_info": {
   "codemirror_mode": {
    "name": "ipython",
    "version": 3
   },
   "file_extension": ".py",
   "mimetype": "text/x-python",
   "name": "python",
   "nbconvert_exporter": "python",
   "pygments_lexer": "ipython3",
   "version": "3.9.7"
  }
 },
 "nbformat": 4,
 "nbformat_minor": 5
}
