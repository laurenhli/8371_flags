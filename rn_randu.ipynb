{
 "cells": [
  {
   "cell_type": "code",
   "execution_count": 145,
   "id": "06209189",
   "metadata": {},
   "outputs": [],
   "source": [
    "import numpy as np\n",
    "from numpy.linalg import multi_dot\n",
    "from scipy.linalg import norm\n",
    "import matplotlib.pyplot as plt\n",
    "%run -i helper.py\n",
    "%run -i rn_cu_gadget.py"
   ]
  },
  {
   "cell_type": "code",
   "execution_count": 146,
   "id": "dfb54351",
   "metadata": {},
   "outputs": [],
   "source": [
    "reps = 200\n",
    "D00 = {(0,0,0):1}\n",
    "D01 = {(0,0,0):0, (0,0,1):1}\n",
    "D10 = {(0,0,0):0, (0,1,0):1}\n",
    "D11 = {(0,0,0):0, (0,1,1):1}"
   ]
  },
  {
   "cell_type": "code",
   "execution_count": 147,
   "id": "7a6c8e73",
   "metadata": {},
   "outputs": [],
   "source": [
    "reps = 200\n",
    "nflags=1000\n",
    "flag = 0\n",
    "q1 = 1\n",
    "q2 = 2"
   ]
  },
  {
   "cell_type": "code",
   "execution_count": 175,
   "id": "bf741978",
   "metadata": {},
   "outputs": [],
   "source": [
    "n=1\n",
    "p=0.0011\n",
    "res, rej = flag_fid(nflags, n, flag, q1, q2, p, randuflag=False)\n"
   ]
  },
  {
   "cell_type": "code",
   "execution_count": 176,
   "id": "39b73460",
   "metadata": {},
   "outputs": [
    {
     "data": {
      "text/plain": [
       "0.16199999999999998"
      ]
     },
     "execution_count": 176,
     "metadata": {},
     "output_type": "execute_result"
    }
   ],
   "source": [
    "np.average(res)"
   ]
  },
  {
   "cell_type": "code",
   "execution_count": 177,
   "id": "f08aacc5",
   "metadata": {},
   "outputs": [
    {
     "data": {
      "text/plain": [
       "0.5192307692307693"
      ]
     },
     "execution_count": 177,
     "metadata": {},
     "output_type": "execute_result"
    }
   ],
   "source": [
    "rej"
   ]
  },
  {
   "cell_type": "code",
   "execution_count": null,
   "id": "d1974f1f",
   "metadata": {},
   "outputs": [],
   "source": []
  }
 ],
 "metadata": {
  "kernelspec": {
   "display_name": "Python 3 (ipykernel)",
   "language": "python",
   "name": "python3"
  },
  "language_info": {
   "codemirror_mode": {
    "name": "ipython",
    "version": 3
   },
   "file_extension": ".py",
   "mimetype": "text/x-python",
   "name": "python",
   "nbconvert_exporter": "python",
   "pygments_lexer": "ipython3",
   "version": "3.9.7"
  }
 },
 "nbformat": 4,
 "nbformat_minor": 5
}
