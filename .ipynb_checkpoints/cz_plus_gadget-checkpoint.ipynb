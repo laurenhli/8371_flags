{
 "cells": [
  {
   "cell_type": "code",
   "execution_count": 30,
   "id": "b858c22a",
   "metadata": {},
   "outputs": [],
   "source": [
    "import numpy as np\n",
    "from scipy.linalg import norm \n",
    "import matplotlib.pyplot as plt\n",
    "%run -i helper.py"
   ]
  },
  {
   "cell_type": "code",
   "execution_count": 31,
   "id": "c93c4576",
   "metadata": {},
   "outputs": [],
   "source": [
    "reps = 200\n",
    "D00 = {(0,0,0):1}\n",
    "D01 = {(0,0,0):0, (0,0,1):1}\n",
    "D10 = {(0,0,0):0, (0,1,0):1}\n",
    "D11 = {(0,0,0):0, (0,1,1):1}"
   ]
  },
  {
   "cell_type": "code",
   "execution_count": 32,
   "id": "5f73f2b0",
   "metadata": {},
   "outputs": [],
   "source": [
    "reps = 200\n",
    "flag1 = 0\n",
    "q1 = 1\n",
    "q2 = 2\n",
    "nflags = 1"
   ]
  },
  {
   "cell_type": "code",
   "execution_count": 56,
   "id": "86c5949f",
   "metadata": {},
   "outputs": [],
   "source": [
    "def CZ_plus(start, reps, err=False):\n",
    "    flag1_res = []\n",
    "    for _ in range(reps):\n",
    "        reg=Reg(3)\n",
    "        setstate(start, reg)\n",
    "        H(flag1, reg)\n",
    "        CNOT(flag1, q2, reg)\n",
    "        CZ(q1, q2, reg)\n",
    "        ## errors here\n",
    "        if err:\n",
    "            Z(q2, reg)\n",
    "        ##\n",
    "        CZ(q1, flag1, reg)\n",
    "        CNOT(flag1, q2, reg)\n",
    "        H(flag1, reg)\n",
    "        flag1_res.append(measure(flag1, reg))\n",
    "    #print(flag1_res)\n",
    "    print('Proportion flags triggered:', flag1_res.count(1)/reps)"
   ]
  },
  {
   "cell_type": "code",
   "execution_count": 57,
   "id": "f27e4211",
   "metadata": {},
   "outputs": [
    {
     "name": "stdout",
     "output_type": "stream",
     "text": [
      "Proportion flags triggered: 0.0\n",
      "Proportion flags triggered: 0.0\n",
      "Proportion flags triggered: 0.0\n",
      "Proportion flags triggered: 0.0\n"
     ]
    }
   ],
   "source": [
    "CZ_plus(D00, reps)\n",
    "CZ_plus(D01, reps)\n",
    "CZ_plus(D10, reps)\n",
    "CZ_plus(D11, reps)"
   ]
  },
  {
   "cell_type": "code",
   "execution_count": 58,
   "id": "79175658",
   "metadata": {},
   "outputs": [
    {
     "name": "stdout",
     "output_type": "stream",
     "text": [
      "Proportion flags triggered: 1.0\n",
      "Proportion flags triggered: 1.0\n",
      "Proportion flags triggered: 1.0\n",
      "Proportion flags triggered: 1.0\n"
     ]
    }
   ],
   "source": [
    "CZ_plus(D00, reps, err=True)\n",
    "CZ_plus(D01, reps, err=True)\n",
    "CZ_plus(D10, reps, err=True)\n",
    "CZ_plus(D11, reps, err=True)"
   ]
  },
  {
   "cell_type": "code",
   "execution_count": 60,
   "id": "46970baa",
   "metadata": {},
   "outputs": [],
   "source": [
    "def CZ_gadget_fid(start):\n",
    "    reg=Reg(3)\n",
    "    setstate(start, reg)\n",
    "    H(flag1, reg)\n",
    "    CNOT(flag1, q2, reg)\n",
    "    CZ(q1, q2, reg)\n",
    "    CZ(q1, flag1, reg)\n",
    "    CNOT(flag1, q2, reg)\n",
    "    H(flag1, reg)\n",
    "    rho1 = reducedrho([flag1], reg)\n",
    "    \n",
    "    reg2=Reg(3)\n",
    "    setstate(start, reg2)\n",
    "    CZ(q1, q2, reg2)\n",
    "    rho2 = reducedrho([flag1], reg2)\n",
    "    \n",
    "    print('Fidelity with regualr CZ:', fidelity(rho1, rho2))"
   ]
  },
  {
   "cell_type": "code",
   "execution_count": 62,
   "id": "11826927",
   "metadata": {},
   "outputs": [
    {
     "name": "stdout",
     "output_type": "stream",
     "text": [
      "Fidelity with regualr CZ: 0.9999999999999998\n",
      "Fidelity with regualr CZ: 0.9999999999999998\n",
      "Fidelity with regualr CZ: 0.9999999999999998\n",
      "Fidelity with regualr CZ: 0.9999999999999998\n"
     ]
    }
   ],
   "source": [
    "CZ_gadget_fid(D00)\n",
    "CZ_gadget_fid(D01)\n",
    "CZ_gadget_fid(D10)\n",
    "CZ_gadget_fid(D11)"
   ]
  },
  {
   "cell_type": "code",
   "execution_count": null,
   "id": "e368e251",
   "metadata": {},
   "outputs": [],
   "source": []
  }
 ],
 "metadata": {
  "kernelspec": {
   "display_name": "Python 3 (ipykernel)",
   "language": "python",
   "name": "python3"
  },
  "language_info": {
   "codemirror_mode": {
    "name": "ipython",
    "version": 3
   },
   "file_extension": ".py",
   "mimetype": "text/x-python",
   "name": "python",
   "nbconvert_exporter": "python",
   "pygments_lexer": "ipython3",
   "version": "3.9.7"
  }
 },
 "nbformat": 4,
 "nbformat_minor": 5
}
