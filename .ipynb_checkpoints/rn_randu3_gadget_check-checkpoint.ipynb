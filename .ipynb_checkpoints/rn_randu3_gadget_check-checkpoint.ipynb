{
 "cells": [
  {
   "cell_type": "code",
   "execution_count": 179,
   "id": "59fb5fb4",
   "metadata": {},
   "outputs": [],
   "source": [
    "import numpy as np\n",
    "from numpy.linalg import multi_dot\n",
    "from scipy.linalg import norm\n",
    "import matplotlib.pyplot as plt\n",
    "%run -i helper.py\n",
    "%run -i rn_cu_gadget.py"
   ]
  },
  {
   "cell_type": "code",
   "execution_count": 163,
   "id": "7996443c",
   "metadata": {},
   "outputs": [],
   "source": [
    "reps = 200\n",
    "D00 = {(0,0,0):1}\n",
    "D01 = {(0,0,0):0, (0,0,1):1}\n",
    "D10 = {(0,0,0):0, (0,1,0):1}\n",
    "D11 = {(0,0,0):0, (0,1,1):1}"
   ]
  },
  {
   "cell_type": "code",
   "execution_count": 164,
   "id": "73217736",
   "metadata": {},
   "outputs": [],
   "source": [
    "reps = 200\n",
    "flag = 0\n",
    "q1 = 1\n",
    "q2 = 2\n",
    "nflags = 1"
   ]
  },
  {
   "cell_type": "code",
   "execution_count": 165,
   "id": "f1cdc6a5",
   "metadata": {},
   "outputs": [],
   "source": [
    "def CU_flag(start, n, reps, err=False):\n",
    "    F = unitary_group.rvs(4)\n",
    "    #F = Pauliflag[np.random.choice(Paulierr)]\n",
    "    U = CRn_matrix(n)\n",
    "    Fdag = np.array(np.matrix(F).getH())\n",
    "    Udag = np.array(np.matrix(U).getH())\n",
    "    Fprime = multi_dot([U, Fdag, Udag])\n",
    "    \n",
    "    flag_res = []\n",
    "    for _ in range(reps):\n",
    "        reg=Reg(3)\n",
    "        setstate(start, reg)\n",
    "        H(flag, reg)\n",
    "        Ccustom3(F, reg) #random flag F\n",
    "        CRn(q1, q2, n, reg) #two-qubit gate U\n",
    "        ## errors here\n",
    "        #X(q1,reg)\n",
    "        ##\n",
    "        Ccustom3(Fprime, reg) #flag Fprime = U Fdag Udag\n",
    "        H(flag, reg) \n",
    "        flag_res.append(measure(flag, reg))\n",
    "    #print(flag1_res)\n",
    "    print('Proportion flags triggered:', flag_res.count(1)/reps)"
   ]
  },
  {
   "cell_type": "code",
   "execution_count": 166,
   "id": "9186974e",
   "metadata": {},
   "outputs": [
    {
     "name": "stdout",
     "output_type": "stream",
     "text": [
      "Proportion flags triggered: 0.0\n",
      "Proportion flags triggered: 0.0\n",
      "Proportion flags triggered: 0.0\n",
      "Proportion flags triggered: 0.0\n"
     ]
    }
   ],
   "source": [
    "n=1\n",
    "CU_flag(even_start,n,reps)\n",
    "CU_flag(even_start,n,reps)\n",
    "CU_flag(even_start,n,reps)\n",
    "CU_flag(even_start,n,reps)"
   ]
  },
  {
   "cell_type": "code",
   "execution_count": 185,
   "id": "4bc4bfc5",
   "metadata": {},
   "outputs": [],
   "source": [
    "def CU_flag_fid(start, n):\n",
    "    F = unitary_group.rvs(4)\n",
    "    #F = Pauliflag[np.random.choice(Paulierr)]\n",
    "    U = CRn_matrix(n)\n",
    "    Fdag = np.array(np.matrix(F).getH())\n",
    "    Udag = np.array(np.matrix(U).getH())\n",
    "    Fprime = multi_dot([U, Fdag, Udag])\n",
    "    \n",
    "    reg=Reg(3)\n",
    "    setstate(start, reg)\n",
    "    H(flag, reg)\n",
    "    Ccustom3(F, reg)\n",
    "    CRn(q1, q2, n, reg)\n",
    "    ### errors here\n",
    "    \n",
    "    ###\n",
    "    Ccustom3(Fprime, reg)\n",
    "    H(flag, reg)\n",
    "    rho1 = reducedrho([flag], reg)\n",
    "    \n",
    "    reg2=Reg(3)\n",
    "    setstate(start, reg2)\n",
    "    CRn(q1, q2, n, reg2)\n",
    "    rho2 = reducedrho([flag], reg2)\n",
    "    \n",
    "    print('Fidelity with regular Rn:', fidelity(rho1, rho2))\n",
    "    print(rho1)\n",
    "    print(rho2)\n",
    "    return reg.psi.flatten()\n"
   ]
  },
  {
   "cell_type": "code",
   "execution_count": 186,
   "id": "de12b8b9",
   "metadata": {},
   "outputs": [
    {
     "name": "stdout",
     "output_type": "stream",
     "text": [
      "Fidelity with regular Rn: 3.439843452630306e-16\n",
      "[[ 4.81482486e-33+0.00000000e+00j -3.37037740e-33+1.92592994e-33j\n",
      "   3.31019209e-33+1.92592994e-33j  3.46944695e-17+3.46944695e-17j]\n",
      " [-3.37037740e-33+1.92592994e-33j  1.58889220e-33-2.69630192e-33j\n",
      "  -3.08750644e-33-2.40741243e-35j -3.81639165e-17-1.04083409e-17j]\n",
      " [ 3.31019209e-33+1.92592994e-33j -3.08750644e-33-2.40741243e-35j\n",
      "   1.50538509e-33+2.64815367e-33j  9.97465999e-18+3.77302356e-17j]\n",
      " [ 3.46944695e-17+3.46944695e-17j -3.81639165e-17-1.04083409e-17j\n",
      "   9.97465999e-18+3.77302356e-17j  3.33066907e-16+1.00000000e+00j]]\n",
      "[[0.00000000e+00+0.j 0.00000000e+00+0.j 0.00000000e+00+0.j\n",
      "  0.00000000e+00+0.j]\n",
      " [0.00000000e+00+0.j 0.00000000e+00+0.j 0.00000000e+00+0.j\n",
      "  0.00000000e+00+0.j]\n",
      " [0.00000000e+00+0.j 0.00000000e+00+0.j 0.00000000e+00+0.j\n",
      "  0.00000000e+00+0.j]\n",
      " [0.00000000e+00+0.j 0.00000000e+00+0.j 0.00000000e+00+0.j\n",
      "  2.22044605e-16+1.j]]\n",
      "[ 4.90653893e-17+0.00000000e+00j -3.43457725e-17+1.96261557e-17j\n",
      "  3.37324552e-17+1.96261557e-17j  7.07106781e-01+7.07106781e-01j\n",
      " -4.90653893e-17+0.00000000e+00j  3.43457725e-17-1.96261557e-17j\n",
      " -3.37324552e-17-1.96261557e-17j -1.66533454e-16-5.55111512e-17j]\n"
     ]
    }
   ],
   "source": [
    "n=3\n",
    "#CU_flag_fid(D00, n)\n",
    "#CU_flag_fid(D01, n)\n",
    "#CU_flag_fid(D10, n)\n",
    "CU_flag_fid(D11, n)"
   ]
  },
  {
   "cell_type": "code",
   "execution_count": null,
   "id": "c660598f",
   "metadata": {},
   "outputs": [],
   "source": [
    "def fid_test(start, n):\n",
    "    reg=Reg(2)\n",
    "    setstate(start, reg)\n",
    "    Ccustom"
   ]
  }
 ],
 "metadata": {
  "kernelspec": {
   "display_name": "Python 3 (ipykernel)",
   "language": "python",
   "name": "python3"
  },
  "language_info": {
   "codemirror_mode": {
    "name": "ipython",
    "version": 3
   },
   "file_extension": ".py",
   "mimetype": "text/x-python",
   "name": "python",
   "nbconvert_exporter": "python",
   "pygments_lexer": "ipython3",
   "version": "3.9.7"
  }
 },
 "nbformat": 4,
 "nbformat_minor": 5
}
