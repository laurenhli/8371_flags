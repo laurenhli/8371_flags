{
 "cells": [
  {
   "cell_type": "code",
   "execution_count": 200,
   "id": "59fb5fb4",
   "metadata": {},
   "outputs": [],
   "source": [
    "import numpy as np\n",
    "from numpy.linalg import multi_dot\n",
    "from scipy.linalg import norm\n",
    "import matplotlib.pyplot as plt\n",
    "%run -i helper.py"
   ]
  },
  {
   "cell_type": "code",
   "execution_count": 201,
   "id": "7996443c",
   "metadata": {},
   "outputs": [],
   "source": [
    "reps = 200\n",
    "D00 = {(0,0,0):1}\n",
    "D01 = {(0,0,0):0, (0,0,1):1}\n",
    "D10 = {(0,0,0):0, (0,1,0):1}\n",
    "D11 = {(0,0,0):0, (0,1,1):1}"
   ]
  },
  {
   "cell_type": "code",
   "execution_count": 202,
   "id": "73217736",
   "metadata": {},
   "outputs": [],
   "source": [
    "reps = 200\n",
    "flag = 0\n",
    "q1 = 1\n",
    "q2 = 2\n",
    "nflags = 1"
   ]
  },
  {
   "cell_type": "code",
   "execution_count": 203,
   "id": "f1cdc6a5",
   "metadata": {},
   "outputs": [],
   "source": [
    "def CU_flag(start, n, reps, err=False):\n",
    "    F = unitary_group.rvs(4)\n",
    "    #F = Pauliflag[np.random.choice(Paulierr)]\n",
    "    U = CRn_matrix(n)\n",
    "    Fdag = np.array(np.matrix(F).getH())\n",
    "    Udag = np.array(np.matrix(U).getH())\n",
    "    Fprime = multi_dot([U, Fdag, Udag])\n",
    "    \n",
    "    flag_res = []\n",
    "    for _ in range(reps):\n",
    "        reg=Reg(3)\n",
    "        setstate(start, reg)\n",
    "        H(flag, reg)\n",
    "        Ccustom3(F, reg) #random flag F\n",
    "        CRn(q1, q2, n, reg) #two-qubit gate U\n",
    "        ## errors here\n",
    "        #X(q1,reg)\n",
    "        ##\n",
    "        Ccustom3(Fprime, reg) #flag Fprime = U Fdag Udag\n",
    "        H(flag, reg) \n",
    "        flag_res.append(measure(flag, reg))\n",
    "    #print(flag1_res)\n",
    "    print('Proportion flags triggered:', flag_res.count(1)/reps)"
   ]
  },
  {
   "cell_type": "code",
   "execution_count": 204,
   "id": "9186974e",
   "metadata": {},
   "outputs": [
    {
     "name": "stdout",
     "output_type": "stream",
     "text": [
      "Proportion flags triggered: 0.0\n",
      "Proportion flags triggered: 0.0\n",
      "Proportion flags triggered: 0.0\n",
      "Proportion flags triggered: 0.0\n"
     ]
    }
   ],
   "source": [
    "n=1\n",
    "CU_flag(even_start,n,reps)\n",
    "CU_flag(even_start,n,reps)\n",
    "CU_flag(even_start,n,reps)\n",
    "CU_flag(even_start,n,reps)"
   ]
  },
  {
   "cell_type": "code",
   "execution_count": 207,
   "id": "4bc4bfc5",
   "metadata": {},
   "outputs": [],
   "source": [
    "def CU_flag_fid(start, n):\n",
    "    F = unitary_group.rvs(4)\n",
    "    #F = Pauliflag[np.random.choice(Paulierr)]\n",
    "    U = CRn_matrix(n)\n",
    "    Fdag = np.array(np.matrix(F).getH())\n",
    "    Udag = np.array(np.matrix(U).getH())\n",
    "    Fprime = multi_dot([U, Fdag, Udag])\n",
    "    \n",
    "    reg=Reg(3)\n",
    "    setstate(start, reg)\n",
    "    H(flag, reg)\n",
    "    Ccustom3(F, reg)\n",
    "    CRn(q1, q2, n, reg)\n",
    "    ### errors here\n",
    "    \n",
    "    ###\n",
    "    Ccustom3(Fprime, reg)\n",
    "    H(flag, reg)\n",
    "    rho1 = reducedrho([flag], reg)\n",
    "    \n",
    "    reg2=Reg(3)\n",
    "    setstate(start, reg2)\n",
    "    CRn(q1, q2, n, reg2)\n",
    "    rho2 = reducedrho([flag], reg2)\n",
    "    \n",
    "    print('Fidelity with regular Rn:', fidelity(rho1, rho2))\n",
    "    #print(rho1)\n",
    "    #print(rho2)"
   ]
  },
  {
   "cell_type": "code",
   "execution_count": 217,
   "id": "ffdc174e",
   "metadata": {},
   "outputs": [
    {
     "name": "stdout",
     "output_type": "stream",
     "text": [
      "Fidelity with regular Rn: 0.9999999999999998\n",
      "Fidelity with regular Rn: 1.0000000000000007\n",
      "Fidelity with regular Rn: 0.9999999999999999\n",
      "Fidelity with regular Rn: 1.0000000000000002\n"
     ]
    }
   ],
   "source": [
    "n=8\n",
    "CU_flag_fid(D00,n)\n",
    "CU_flag_fid(D01,n)\n",
    "CU_flag_fid(D10,n)\n",
    "CU_flag_fid(D11,n)"
   ]
  },
  {
   "cell_type": "code",
   "execution_count": null,
   "id": "83867ed7",
   "metadata": {},
   "outputs": [],
   "source": []
  }
 ],
 "metadata": {
  "kernelspec": {
   "display_name": "Python 3 (ipykernel)",
   "language": "python",
   "name": "python3"
  },
  "language_info": {
   "codemirror_mode": {
    "name": "ipython",
    "version": 3
   },
   "file_extension": ".py",
   "mimetype": "text/x-python",
   "name": "python",
   "nbconvert_exporter": "python",
   "pygments_lexer": "ipython3",
   "version": "3.9.7"
  }
 },
 "nbformat": 4,
 "nbformat_minor": 5
}
