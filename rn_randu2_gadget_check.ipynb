{
 "cells": [
  {
   "cell_type": "code",
   "execution_count": 35,
   "id": "413168ee",
   "metadata": {},
   "outputs": [],
   "source": [
    "import numpy as np\n",
    "from numpy.linalg import multi_dot\n",
    "from scipy.linalg import norm\n",
    "import matplotlib.pyplot as plt\n",
    "%run -i helper.py"
   ]
  },
  {
   "cell_type": "code",
   "execution_count": 36,
   "id": "369776e6",
   "metadata": {},
   "outputs": [],
   "source": [
    "reps = 200\n",
    "D00 = {(0,0,0):1}\n",
    "D01 = {(0,0,0):0, (0,0,1):1}\n",
    "D10 = {(0,0,0):0, (0,1,0):1}\n",
    "D11 = {(0,0,0):0, (0,1,1):1}\n",
    "\n",
    "D0 = {(0,0):1}\n",
    "D1 = {(0,0):0, (0,1):1}"
   ]
  },
  {
   "cell_type": "code",
   "execution_count": 37,
   "id": "c2df67c4",
   "metadata": {},
   "outputs": [],
   "source": [
    "reps = 200\n",
    "flag = 0\n",
    "q1 = 1\n",
    "q2 = 2\n",
    "nflags = 1"
   ]
  },
  {
   "cell_type": "code",
   "execution_count": 38,
   "id": "d8e227a2",
   "metadata": {},
   "outputs": [],
   "source": [
    "def CU2_gadget(start, reps, err=False):\n",
    "    F = unitary_group.rvs(2)\n",
    "    U = np.array([[0,1],[1,0]])\n",
    "    Fdag = np.array(np.matrix(F).getH())\n",
    "    Udag = np.array(np.matrix(U).getH())\n",
    "    Fprime = multi_dot([U, Fdag, Udag])\n",
    "    \n",
    "    flag_res = []\n",
    "    for _ in range(reps):\n",
    "        reg=Reg(2)\n",
    "        setstate(start, reg)\n",
    "        H(flag, reg)\n",
    "        Ccustom2(F, reg) #random flag F\n",
    "        X(q1, reg) #two-qubit gate U\n",
    "        ## errors here\n",
    "        \n",
    "        ##\n",
    "        Ccustom2(Fprime, reg) #flag Fprime = U Fdag Udag\n",
    "        H(flag, reg) \n",
    "        flag_res.append(measure(flag, reg))\n",
    "    #print(flag1_res)\n",
    "    print('Proportion flags triggered:', flag_res.count(1)/reps)"
   ]
  },
  {
   "cell_type": "code",
   "execution_count": 39,
   "id": "d1339b7b",
   "metadata": {},
   "outputs": [
    {
     "name": "stdout",
     "output_type": "stream",
     "text": [
      "Proportion flags triggered: 0.0\n",
      "Proportion flags triggered: 0.0\n"
     ]
    }
   ],
   "source": [
    "CU2_gadget(D0,reps)\n",
    "CU2_gadget(D1,reps)"
   ]
  },
  {
   "cell_type": "code",
   "execution_count": 44,
   "id": "bb6ccde0",
   "metadata": {},
   "outputs": [],
   "source": [
    "def CU2_gadget_fid(start):\n",
    "    F = unitary_group.rvs(2)\n",
    "    U = np.array([[0,1],[1,0]])\n",
    "    Fdag = np.array(np.matrix(F).getH())\n",
    "    Udag = np.array(np.matrix(U).getH())\n",
    "    Fprime = multi_dot([U, Fdag, Udag])\n",
    "    \n",
    "    reg=Reg(2)\n",
    "    setstate(start, reg)\n",
    "    H(flag, reg)\n",
    "    Ccustom2(F, reg)\n",
    "    X(q1, reg)\n",
    "    Ccustom2(Fprime, reg)\n",
    "    H(flag1, reg)\n",
    "    rho1 = reducedrho([flag], reg)\n",
    "    \n",
    "    reg2=Reg(2)\n",
    "    setstate(start, reg2)\n",
    "    X(q1, reg2)\n",
    "    rho2 = reducedrho([flag1], reg2)\n",
    "    \n",
    "    print('Fidelity with regular X:', fidelity(rho1, rho2))"
   ]
  },
  {
   "cell_type": "code",
   "execution_count": 45,
   "id": "bca990b5",
   "metadata": {},
   "outputs": [
    {
     "name": "stdout",
     "output_type": "stream",
     "text": [
      "Fidelity with regular X: 1.0\n",
      "Fidelity with regular X: 0.9999999999999998\n"
     ]
    }
   ],
   "source": [
    "CU2_gadget_fid(D0)\n",
    "CU2_gadget_fid(D1)"
   ]
  },
  {
   "cell_type": "code",
   "execution_count": null,
   "id": "0c5723ea",
   "metadata": {},
   "outputs": [],
   "source": []
  }
 ],
 "metadata": {
  "kernelspec": {
   "display_name": "Python 3 (ipykernel)",
   "language": "python",
   "name": "python3"
  },
  "language_info": {
   "codemirror_mode": {
    "name": "ipython",
    "version": 3
   },
   "file_extension": ".py",
   "mimetype": "text/x-python",
   "name": "python",
   "nbconvert_exporter": "python",
   "pygments_lexer": "ipython3",
   "version": "3.9.7"
  }
 },
 "nbformat": 4,
 "nbformat_minor": 5
}
