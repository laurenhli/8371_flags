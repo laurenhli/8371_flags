{
 "cells": [
  {
   "cell_type": "code",
   "execution_count": 54,
   "id": "88784eaf",
   "metadata": {},
   "outputs": [],
   "source": [
    "import numpy as np\n",
    "from numpy.linalg import multi_dot\n",
    "from scipy.linalg import norm\n",
    "import matplotlib.pyplot as plt\n",
    "%run -i rn_cu_gadget.py\n",
    "%run -i helper.py"
   ]
  },
  {
   "cell_type": "code",
   "execution_count": 55,
   "id": "cb8619aa",
   "metadata": {},
   "outputs": [],
   "source": [
    "D00 = {(0,0,0):1}\n",
    "D01 = {(0,0,0):0, (0,0,1):1}\n",
    "D10 = {(0,0,0):0, (0,1,0):1}\n",
    "D11 = {(0,0,0):0, (0,1,1):1}"
   ]
  },
  {
   "cell_type": "code",
   "execution_count": 56,
   "id": "44f2a04e",
   "metadata": {},
   "outputs": [],
   "source": [
    "reps = 200\n",
    "flag = 0\n",
    "q1 = 1\n",
    "q2 = 2\n",
    "p=0\n",
    "nflags = 100"
   ]
  },
  {
   "cell_type": "code",
   "execution_count": 73,
   "id": "0e74186e",
   "metadata": {},
   "outputs": [],
   "source": [
    "n=3\n",
    "res, rej, rej_prop = flag_fid(D00, nflags, n, flag, q1, q2, p, randuflag=False, err='YY')"
   ]
  },
  {
   "cell_type": "code",
   "execution_count": 74,
   "id": "b739c728",
   "metadata": {},
   "outputs": [
    {
     "name": "stdout",
     "output_type": "stream",
     "text": [
      "0.0\n",
      "0.0\n",
      "0.51\n"
     ]
    }
   ],
   "source": [
    "print(np.average(res))\n",
    "print(np.average(rej))\n",
    "print(rej_prop)"
   ]
  },
  {
   "cell_type": "code",
   "execution_count": null,
   "id": "b6f2195c",
   "metadata": {},
   "outputs": [],
   "source": []
  }
 ],
 "metadata": {
  "kernelspec": {
   "display_name": "Python 3 (ipykernel)",
   "language": "python",
   "name": "python3"
  },
  "language_info": {
   "codemirror_mode": {
    "name": "ipython",
    "version": 3
   },
   "file_extension": ".py",
   "mimetype": "text/x-python",
   "name": "python",
   "nbconvert_exporter": "python",
   "pygments_lexer": "ipython3",
   "version": "3.9.7"
  }
 },
 "nbformat": 4,
 "nbformat_minor": 5
}
